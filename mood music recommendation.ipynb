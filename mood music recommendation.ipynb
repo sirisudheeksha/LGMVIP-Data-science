{
 "cells": [
  {
   "cell_type": "markdown",
   "metadata": {},
   "source": [
    "# LGM DATA SCIENCE INTERNSHIP\n",
    "# NAME: VAVILA S S V S SIRI SUDHEEKSHA\n"
   ]
  },
  {
   "cell_type": "markdown",
   "metadata": {},
   "source": [
    "### MORE ADVANCED LEVEL TASK\n",
    "\n",
    "###  Mood based musicrecommendation\n"
   ]
  },
  {
   "cell_type": "markdown",
   "metadata": {},
   "source": [
    "## 1. Import libarary "
   ]
  },
  {
   "cell_type": "code",
   "execution_count": 1,
   "metadata": {},
   "outputs": [],
   "source": [
    "import numpy as np\n",
    "from tensorflow import keras\n",
    "from tensorflow.keras import layers\n",
    "import matplotlib.pyplot as plt\n",
    "import pandas as pd\n",
    "import cv2\n",
    "import os\n",
    "from os import listdir\n",
    "from os.path import isfile, join"
   ]
  },
  {
   "cell_type": "code",
   "execution_count": 2,
   "metadata": {},
   "outputs": [
    {
     "name": "stderr",
     "output_type": "stream",
     "text": [
      "Using TensorFlow backend.\n"
     ]
    }
   ],
   "source": [
    "from keras.models import Sequential\n",
    "from keras.layers import Dense\n",
    "from keras.layers import Dropout\n",
    "from keras.layers import Flatten\n",
    "from keras.layers import Conv2D\n",
    "from keras.layers import MaxPooling2D"
   ]
  },
  {
   "cell_type": "markdown",
   "metadata": {},
   "source": [
    "## 2. Load data "
   ]
  },
  {
   "cell_type": "code",
   "execution_count": 6,
   "metadata": {},
   "outputs": [],
   "source": [
    "music= (pd.read_csv('data_moods.csv'))"
   ]
  },
  {
   "cell_type": "code",
   "execution_count": 12,
   "metadata": {},
   "outputs": [
    {
     "data": {
      "text/plain": [
       "(686, 4)"
      ]
     },
     "execution_count": 12,
     "metadata": {},
     "output_type": "execute_result"
    }
   ],
   "source": [
    "music.shape"
   ]
  },
  {
   "cell_type": "code",
   "execution_count": 13,
   "metadata": {
    "scrolled": true
   },
   "outputs": [
    {
     "data": {
      "text/html": [
       "<div>\n",
       "<style scoped>\n",
       "    .dataframe tbody tr th:only-of-type {\n",
       "        vertical-align: middle;\n",
       "    }\n",
       "\n",
       "    .dataframe tbody tr th {\n",
       "        vertical-align: top;\n",
       "    }\n",
       "\n",
       "    .dataframe thead th {\n",
       "        text-align: right;\n",
       "    }\n",
       "</style>\n",
       "<table border=\"1\" class=\"dataframe\">\n",
       "  <thead>\n",
       "    <tr style=\"text-align: right;\">\n",
       "      <th></th>\n",
       "      <th>name</th>\n",
       "      <th>album</th>\n",
       "      <th>artist</th>\n",
       "      <th>mood</th>\n",
       "    </tr>\n",
       "  </thead>\n",
       "  <tbody>\n",
       "    <tr>\n",
       "      <th>0</th>\n",
       "      <td>1999</td>\n",
       "      <td>1999</td>\n",
       "      <td>Prince</td>\n",
       "      <td>Happy</td>\n",
       "    </tr>\n",
       "    <tr>\n",
       "      <th>1</th>\n",
       "      <td>23</td>\n",
       "      <td>23</td>\n",
       "      <td>Blonde Redhead</td>\n",
       "      <td>Sad</td>\n",
       "    </tr>\n",
       "    <tr>\n",
       "      <th>2</th>\n",
       "      <td>9 Crimes</td>\n",
       "      <td>9</td>\n",
       "      <td>Damien Rice</td>\n",
       "      <td>Sad</td>\n",
       "    </tr>\n",
       "    <tr>\n",
       "      <th>3</th>\n",
       "      <td>99 Luftballons</td>\n",
       "      <td>99 Luftballons</td>\n",
       "      <td>Nena</td>\n",
       "      <td>Happy</td>\n",
       "    </tr>\n",
       "    <tr>\n",
       "      <th>4</th>\n",
       "      <td>A Boy Brushed Red Living In Black And White</td>\n",
       "      <td>They're Only Chasing Safety</td>\n",
       "      <td>Underoath</td>\n",
       "      <td>Energetic</td>\n",
       "    </tr>\n",
       "  </tbody>\n",
       "</table>\n",
       "</div>"
      ],
      "text/plain": [
       "                                          name                        album  \\\n",
       "0                                         1999                         1999   \n",
       "1                                           23                           23   \n",
       "2                                     9 Crimes                            9   \n",
       "3                               99 Luftballons               99 Luftballons   \n",
       "4  A Boy Brushed Red Living In Black And White  They're Only Chasing Safety   \n",
       "\n",
       "           artist       mood  \n",
       "0          Prince      Happy  \n",
       "1  Blonde Redhead        Sad  \n",
       "2     Damien Rice        Sad  \n",
       "3            Nena      Happy  \n",
       "4       Underoath  Energetic  "
      ]
     },
     "execution_count": 13,
     "metadata": {},
     "output_type": "execute_result"
    }
   ],
   "source": [
    "music.head()"
   ]
  },
  {
   "cell_type": "code",
   "execution_count": 11,
   "metadata": {},
   "outputs": [],
   "source": [
    "music=music[['name','album','artist','mood']]"
   ]
  },
  {
   "cell_type": "code",
   "execution_count": 14,
   "metadata": {},
   "outputs": [],
   "source": [
    "music.to_csv('music.csv',index=False)"
   ]
  },
  {
   "cell_type": "code",
   "execution_count": 15,
   "metadata": {
    "scrolled": true
   },
   "outputs": [
    {
     "data": {
      "text/plain": [
       "Sad          197\n",
       "Calm         195\n",
       "Energetic    154\n",
       "Happy        140\n",
       "Name: mood, dtype: int64"
      ]
     },
     "execution_count": 15,
     "metadata": {},
     "output_type": "execute_result"
    }
   ],
   "source": [
    "music['mood'].value_counts()"
   ]
  },
  {
   "cell_type": "code",
   "execution_count": 17,
   "metadata": {},
   "outputs": [],
   "source": [
    "import cv2"
   ]
  },
  {
   "cell_type": "code",
   "execution_count": 22,
   "metadata": {},
   "outputs": [],
   "source": [
    "def prepdata(folder,classs):\n",
    "    train_data=[]\n",
    "    for filename in os.listdir(folder):\n",
    "        img = cv2.imread(os.path.join(folder,filename),cv2.IMREAD_GRAYSCALE)\n",
    "        im_resize=np.reshape(img,(2304,1))\n",
    "        train_data.append(im_resize)\n",
    "    for i in range(0,len(train_data)):\n",
    "        train_data[i]=np.append(train_data[i],[classs])\n",
    "    \n",
    "    return train_data"
   ]
  },
  {
   "cell_type": "code",
   "execution_count": 23,
   "metadata": {},
   "outputs": [
    {
     "name": "stdout",
     "output_type": "stream",
     "text": [
      "3995\n",
      "4431\n"
     ]
    }
   ],
   "source": [
    "#assign 'angry'=0\n",
    "data= prepdata('train/angry','0')\n",
    "print(len(data))\n",
    "#assign 'disgust'=1\n",
    "temp= prepdata('train/disgust','1')\n",
    "data=np.concatenate((data,temp))\n",
    "print(len(data))"
   ]
  },
  {
   "cell_type": "code",
   "execution_count": 24,
   "metadata": {},
   "outputs": [
    {
     "name": "stdout",
     "output_type": "stream",
     "text": [
      "8528\n",
      "15743\n"
     ]
    }
   ],
   "source": [
    "#assign 'fear'=2\n",
    "temp= prepdata('train/fear','2')\n",
    "data=np.concatenate((data,temp))\n",
    "print(len(data))\n",
    "#assign 'happy'=3\n",
    "temp= prepdata('train/happy','3')\n",
    "data=np.concatenate((data,temp))\n",
    "print(len(data))"
   ]
  },
  {
   "cell_type": "code",
   "execution_count": 25,
   "metadata": {},
   "outputs": [
    {
     "name": "stdout",
     "output_type": "stream",
     "text": [
      "20708\n",
      "25538\n",
      "28709\n"
     ]
    }
   ],
   "source": [
    "#assign 'neutral'=4\n",
    "temp= prepdata('train/neutral','4')\n",
    "data=np.concatenate((data,temp))\n",
    "print(len(data))\n",
    "#assign 'sad'=5\n",
    "temp= prepdata('train/sad','5')\n",
    "data=np.concatenate((data,temp))\n",
    "print(len(data))\n",
    "#assign 'surprise'=6\n",
    "temp= prepdata('train/surprise','6')\n",
    "data=np.concatenate((data,temp))\n",
    "print(len(data))"
   ]
  },
  {
   "cell_type": "code",
   "execution_count": null,
   "metadata": {},
   "outputs": [],
   "source": [
    "df=pd.DataFrame(data,index=None)\n",
    "df.to_csv('train_final.csv',index=False)"
   ]
  },
  {
   "cell_type": "markdown",
   "metadata": {},
   "source": [
    "## 3.Model Building "
   ]
  },
  {
   "cell_type": "code",
   "execution_count": 3,
   "metadata": {},
   "outputs": [],
   "source": [
    "df=pd.read_csv('train_final.csv')"
   ]
  },
  {
   "cell_type": "code",
   "execution_count": 4,
   "metadata": {
    "scrolled": true
   },
   "outputs": [
    {
     "data": {
      "text/html": [
       "<div>\n",
       "<style scoped>\n",
       "    .dataframe tbody tr th:only-of-type {\n",
       "        vertical-align: middle;\n",
       "    }\n",
       "\n",
       "    .dataframe tbody tr th {\n",
       "        vertical-align: top;\n",
       "    }\n",
       "\n",
       "    .dataframe thead th {\n",
       "        text-align: right;\n",
       "    }\n",
       "</style>\n",
       "<table border=\"1\" class=\"dataframe\">\n",
       "  <thead>\n",
       "    <tr style=\"text-align: right;\">\n",
       "      <th></th>\n",
       "      <th>0</th>\n",
       "      <th>1</th>\n",
       "      <th>2</th>\n",
       "      <th>3</th>\n",
       "      <th>4</th>\n",
       "      <th>5</th>\n",
       "      <th>6</th>\n",
       "      <th>7</th>\n",
       "      <th>8</th>\n",
       "      <th>9</th>\n",
       "      <th>...</th>\n",
       "      <th>2295</th>\n",
       "      <th>2296</th>\n",
       "      <th>2297</th>\n",
       "      <th>2298</th>\n",
       "      <th>2299</th>\n",
       "      <th>2300</th>\n",
       "      <th>2301</th>\n",
       "      <th>2302</th>\n",
       "      <th>2303</th>\n",
       "      <th>2304</th>\n",
       "    </tr>\n",
       "  </thead>\n",
       "  <tbody>\n",
       "    <tr>\n",
       "      <th>0</th>\n",
       "      <td>50</td>\n",
       "      <td>32</td>\n",
       "      <td>15</td>\n",
       "      <td>11</td>\n",
       "      <td>12</td>\n",
       "      <td>10</td>\n",
       "      <td>10</td>\n",
       "      <td>8</td>\n",
       "      <td>15</td>\n",
       "      <td>10</td>\n",
       "      <td>...</td>\n",
       "      <td>157</td>\n",
       "      <td>156</td>\n",
       "      <td>152</td>\n",
       "      <td>148</td>\n",
       "      <td>151</td>\n",
       "      <td>141</td>\n",
       "      <td>143</td>\n",
       "      <td>136</td>\n",
       "      <td>83</td>\n",
       "      <td>0</td>\n",
       "    </tr>\n",
       "    <tr>\n",
       "      <th>1</th>\n",
       "      <td>29</td>\n",
       "      <td>24</td>\n",
       "      <td>29</td>\n",
       "      <td>11</td>\n",
       "      <td>15</td>\n",
       "      <td>22</td>\n",
       "      <td>26</td>\n",
       "      <td>11</td>\n",
       "      <td>7</td>\n",
       "      <td>17</td>\n",
       "      <td>...</td>\n",
       "      <td>109</td>\n",
       "      <td>165</td>\n",
       "      <td>148</td>\n",
       "      <td>75</td>\n",
       "      <td>49</td>\n",
       "      <td>33</td>\n",
       "      <td>15</td>\n",
       "      <td>24</td>\n",
       "      <td>24</td>\n",
       "      <td>0</td>\n",
       "    </tr>\n",
       "    <tr>\n",
       "      <th>2</th>\n",
       "      <td>0</td>\n",
       "      <td>0</td>\n",
       "      <td>0</td>\n",
       "      <td>0</td>\n",
       "      <td>0</td>\n",
       "      <td>0</td>\n",
       "      <td>0</td>\n",
       "      <td>0</td>\n",
       "      <td>0</td>\n",
       "      <td>0</td>\n",
       "      <td>...</td>\n",
       "      <td>0</td>\n",
       "      <td>0</td>\n",
       "      <td>0</td>\n",
       "      <td>0</td>\n",
       "      <td>0</td>\n",
       "      <td>0</td>\n",
       "      <td>0</td>\n",
       "      <td>0</td>\n",
       "      <td>0</td>\n",
       "      <td>0</td>\n",
       "    </tr>\n",
       "    <tr>\n",
       "      <th>3</th>\n",
       "      <td>155</td>\n",
       "      <td>138</td>\n",
       "      <td>98</td>\n",
       "      <td>112</td>\n",
       "      <td>94</td>\n",
       "      <td>97</td>\n",
       "      <td>111</td>\n",
       "      <td>107</td>\n",
       "      <td>101</td>\n",
       "      <td>84</td>\n",
       "      <td>...</td>\n",
       "      <td>97</td>\n",
       "      <td>95</td>\n",
       "      <td>92</td>\n",
       "      <td>94</td>\n",
       "      <td>101</td>\n",
       "      <td>108</td>\n",
       "      <td>111</td>\n",
       "      <td>112</td>\n",
       "      <td>109</td>\n",
       "      <td>0</td>\n",
       "    </tr>\n",
       "    <tr>\n",
       "      <th>4</th>\n",
       "      <td>211</td>\n",
       "      <td>215</td>\n",
       "      <td>220</td>\n",
       "      <td>221</td>\n",
       "      <td>219</td>\n",
       "      <td>216</td>\n",
       "      <td>213</td>\n",
       "      <td>210</td>\n",
       "      <td>207</td>\n",
       "      <td>205</td>\n",
       "      <td>...</td>\n",
       "      <td>170</td>\n",
       "      <td>168</td>\n",
       "      <td>162</td>\n",
       "      <td>170</td>\n",
       "      <td>169</td>\n",
       "      <td>160</td>\n",
       "      <td>159</td>\n",
       "      <td>156</td>\n",
       "      <td>152</td>\n",
       "      <td>0</td>\n",
       "    </tr>\n",
       "  </tbody>\n",
       "</table>\n",
       "<p>5 rows × 2305 columns</p>\n",
       "</div>"
      ],
      "text/plain": [
       "     0    1    2    3    4    5    6    7    8    9  ...  2295  2296  2297  \\\n",
       "0   50   32   15   11   12   10   10    8   15   10  ...   157   156   152   \n",
       "1   29   24   29   11   15   22   26   11    7   17  ...   109   165   148   \n",
       "2    0    0    0    0    0    0    0    0    0    0  ...     0     0     0   \n",
       "3  155  138   98  112   94   97  111  107  101   84  ...    97    95    92   \n",
       "4  211  215  220  221  219  216  213  210  207  205  ...   170   168   162   \n",
       "\n",
       "   2298  2299  2300  2301  2302  2303  2304  \n",
       "0   148   151   141   143   136    83     0  \n",
       "1    75    49    33    15    24    24     0  \n",
       "2     0     0     0     0     0     0     0  \n",
       "3    94   101   108   111   112   109     0  \n",
       "4   170   169   160   159   156   152     0  \n",
       "\n",
       "[5 rows x 2305 columns]"
      ]
     },
     "execution_count": 4,
     "metadata": {},
     "output_type": "execute_result"
    }
   ],
   "source": [
    "df.head()"
   ]
  },
  {
   "cell_type": "code",
   "execution_count": 5,
   "metadata": {
    "scrolled": true
   },
   "outputs": [
    {
     "data": {
      "text/plain": [
       "3    7215\n",
       "4    4965\n",
       "5    4830\n",
       "2    4097\n",
       "0    3995\n",
       "6    3171\n",
       "1     436\n",
       "Name: 2304, dtype: int64"
      ]
     },
     "execution_count": 5,
     "metadata": {},
     "output_type": "execute_result"
    }
   ],
   "source": [
    "df['2304'].value_counts()"
   ]
  },
  {
   "cell_type": "code",
   "execution_count": 6,
   "metadata": {},
   "outputs": [
    {
     "data": {
      "text/html": [
       "<div>\n",
       "<style scoped>\n",
       "    .dataframe tbody tr th:only-of-type {\n",
       "        vertical-align: middle;\n",
       "    }\n",
       "\n",
       "    .dataframe tbody tr th {\n",
       "        vertical-align: top;\n",
       "    }\n",
       "\n",
       "    .dataframe thead th {\n",
       "        text-align: right;\n",
       "    }\n",
       "</style>\n",
       "<table border=\"1\" class=\"dataframe\">\n",
       "  <thead>\n",
       "    <tr style=\"text-align: right;\">\n",
       "      <th></th>\n",
       "      <th>0</th>\n",
       "      <th>1</th>\n",
       "      <th>2</th>\n",
       "      <th>3</th>\n",
       "      <th>4</th>\n",
       "      <th>5</th>\n",
       "      <th>6</th>\n",
       "      <th>7</th>\n",
       "      <th>8</th>\n",
       "      <th>9</th>\n",
       "      <th>...</th>\n",
       "      <th>2294</th>\n",
       "      <th>2295</th>\n",
       "      <th>2296</th>\n",
       "      <th>2297</th>\n",
       "      <th>2298</th>\n",
       "      <th>2299</th>\n",
       "      <th>2300</th>\n",
       "      <th>2301</th>\n",
       "      <th>2302</th>\n",
       "      <th>2303</th>\n",
       "    </tr>\n",
       "  </thead>\n",
       "  <tbody>\n",
       "    <tr>\n",
       "      <th>0</th>\n",
       "      <td>50</td>\n",
       "      <td>32</td>\n",
       "      <td>15</td>\n",
       "      <td>11</td>\n",
       "      <td>12</td>\n",
       "      <td>10</td>\n",
       "      <td>10</td>\n",
       "      <td>8</td>\n",
       "      <td>15</td>\n",
       "      <td>10</td>\n",
       "      <td>...</td>\n",
       "      <td>160</td>\n",
       "      <td>157</td>\n",
       "      <td>156</td>\n",
       "      <td>152</td>\n",
       "      <td>148</td>\n",
       "      <td>151</td>\n",
       "      <td>141</td>\n",
       "      <td>143</td>\n",
       "      <td>136</td>\n",
       "      <td>83</td>\n",
       "    </tr>\n",
       "    <tr>\n",
       "      <th>1</th>\n",
       "      <td>29</td>\n",
       "      <td>24</td>\n",
       "      <td>29</td>\n",
       "      <td>11</td>\n",
       "      <td>15</td>\n",
       "      <td>22</td>\n",
       "      <td>26</td>\n",
       "      <td>11</td>\n",
       "      <td>7</td>\n",
       "      <td>17</td>\n",
       "      <td>...</td>\n",
       "      <td>60</td>\n",
       "      <td>109</td>\n",
       "      <td>165</td>\n",
       "      <td>148</td>\n",
       "      <td>75</td>\n",
       "      <td>49</td>\n",
       "      <td>33</td>\n",
       "      <td>15</td>\n",
       "      <td>24</td>\n",
       "      <td>24</td>\n",
       "    </tr>\n",
       "    <tr>\n",
       "      <th>2</th>\n",
       "      <td>0</td>\n",
       "      <td>0</td>\n",
       "      <td>0</td>\n",
       "      <td>0</td>\n",
       "      <td>0</td>\n",
       "      <td>0</td>\n",
       "      <td>0</td>\n",
       "      <td>0</td>\n",
       "      <td>0</td>\n",
       "      <td>0</td>\n",
       "      <td>...</td>\n",
       "      <td>0</td>\n",
       "      <td>0</td>\n",
       "      <td>0</td>\n",
       "      <td>0</td>\n",
       "      <td>0</td>\n",
       "      <td>0</td>\n",
       "      <td>0</td>\n",
       "      <td>0</td>\n",
       "      <td>0</td>\n",
       "      <td>0</td>\n",
       "    </tr>\n",
       "    <tr>\n",
       "      <th>3</th>\n",
       "      <td>155</td>\n",
       "      <td>138</td>\n",
       "      <td>98</td>\n",
       "      <td>112</td>\n",
       "      <td>94</td>\n",
       "      <td>97</td>\n",
       "      <td>111</td>\n",
       "      <td>107</td>\n",
       "      <td>101</td>\n",
       "      <td>84</td>\n",
       "      <td>...</td>\n",
       "      <td>102</td>\n",
       "      <td>97</td>\n",
       "      <td>95</td>\n",
       "      <td>92</td>\n",
       "      <td>94</td>\n",
       "      <td>101</td>\n",
       "      <td>108</td>\n",
       "      <td>111</td>\n",
       "      <td>112</td>\n",
       "      <td>109</td>\n",
       "    </tr>\n",
       "    <tr>\n",
       "      <th>4</th>\n",
       "      <td>211</td>\n",
       "      <td>215</td>\n",
       "      <td>220</td>\n",
       "      <td>221</td>\n",
       "      <td>219</td>\n",
       "      <td>216</td>\n",
       "      <td>213</td>\n",
       "      <td>210</td>\n",
       "      <td>207</td>\n",
       "      <td>205</td>\n",
       "      <td>...</td>\n",
       "      <td>171</td>\n",
       "      <td>170</td>\n",
       "      <td>168</td>\n",
       "      <td>162</td>\n",
       "      <td>170</td>\n",
       "      <td>169</td>\n",
       "      <td>160</td>\n",
       "      <td>159</td>\n",
       "      <td>156</td>\n",
       "      <td>152</td>\n",
       "    </tr>\n",
       "  </tbody>\n",
       "</table>\n",
       "<p>5 rows × 2304 columns</p>\n",
       "</div>"
      ],
      "text/plain": [
       "     0    1    2    3    4    5    6    7    8    9  ...  2294  2295  2296  \\\n",
       "0   50   32   15   11   12   10   10    8   15   10  ...   160   157   156   \n",
       "1   29   24   29   11   15   22   26   11    7   17  ...    60   109   165   \n",
       "2    0    0    0    0    0    0    0    0    0    0  ...     0     0     0   \n",
       "3  155  138   98  112   94   97  111  107  101   84  ...   102    97    95   \n",
       "4  211  215  220  221  219  216  213  210  207  205  ...   171   170   168   \n",
       "\n",
       "   2297  2298  2299  2300  2301  2302  2303  \n",
       "0   152   148   151   141   143   136    83  \n",
       "1   148    75    49    33    15    24    24  \n",
       "2     0     0     0     0     0     0     0  \n",
       "3    92    94   101   108   111   112   109  \n",
       "4   162   170   169   160   159   156   152  \n",
       "\n",
       "[5 rows x 2304 columns]"
      ]
     },
     "execution_count": 6,
     "metadata": {},
     "output_type": "execute_result"
    }
   ],
   "source": [
    "labels=df['2304']\n",
    "df.drop(df.columns[[2304]],axis=1,inplace=True)\n",
    "df.head()"
   ]
  },
  {
   "cell_type": "code",
   "execution_count": 7,
   "metadata": {
    "scrolled": true
   },
   "outputs": [
    {
     "data": {
      "text/plain": [
       "0    0\n",
       "1    0\n",
       "2    0\n",
       "3    0\n",
       "4    0\n",
       "Name: 2304, dtype: int64"
      ]
     },
     "execution_count": 7,
     "metadata": {},
     "output_type": "execute_result"
    }
   ],
   "source": [
    "labels.head()"
   ]
  },
  {
   "cell_type": "code",
   "execution_count": 8,
   "metadata": {},
   "outputs": [
    {
     "name": "stdout",
     "output_type": "stream",
     "text": [
      "x_train shape: (28709, 48, 48, 1)\n",
      "28709 train samples\n"
     ]
    }
   ],
   "source": [
    "# Model / data parameters\n",
    "num_classes = 7\n",
    "input_shape = (48, 48, 1)\n",
    "l = df\n",
    "\n",
    "# Scale images to the [0, 1] range\n",
    "l = l.astype(\"float32\") / 255\n",
    "\n",
    "# Make sure images have shape (28, 28, 1)\n",
    "#l = np.expand_dims(x_train, -1)\n",
    "x_train=[]\n",
    "for i in range(28709):\n",
    "    x_train.append(np.array(l[i:i+1]).reshape(48,48,1))\n",
    "x_train=np.array(x_train)\n",
    "print(\"x_train shape:\", x_train.shape)\n",
    "print(x_train.shape[0], \"train samples\")"
   ]
  },
  {
   "cell_type": "code",
   "execution_count": 9,
   "metadata": {},
   "outputs": [
    {
     "data": {
      "text/plain": [
       "array([0, 1, 2, 3, 4, 5, 6], dtype=int64)"
      ]
     },
     "execution_count": 9,
     "metadata": {},
     "output_type": "execute_result"
    }
   ],
   "source": [
    "np.unique(labels)"
   ]
  },
  {
   "cell_type": "code",
   "execution_count": 10,
   "metadata": {},
   "outputs": [],
   "source": [
    "# convert class vectors to binary class matrices\n",
    "y_train =labels\n",
    "y_train = keras.utils.to_categorical(y_train, num_classes)"
   ]
  },
  {
   "cell_type": "code",
   "execution_count": 12,
   "metadata": {
    "scrolled": true
   },
   "outputs": [
    {
     "name": "stdout",
     "output_type": "stream",
     "text": [
      "_________________________________________________________________\n",
      "Layer (type)                 Output Shape              Param #   \n",
      "=================================================================\n",
      "conv2d_3 (Conv2D)            (None, 46, 46, 32)        320       \n",
      "_________________________________________________________________\n",
      "max_pooling2d_3 (MaxPooling2 (None, 23, 23, 32)        0         \n",
      "_________________________________________________________________\n",
      "dropout_3 (Dropout)          (None, 23, 23, 32)        0         \n",
      "_________________________________________________________________\n",
      "conv2d_4 (Conv2D)            (None, 21, 21, 64)        18496     \n",
      "_________________________________________________________________\n",
      "max_pooling2d_4 (MaxPooling2 (None, 10, 10, 64)        0         \n",
      "_________________________________________________________________\n",
      "flatten_2 (Flatten)          (None, 6400)              0         \n",
      "_________________________________________________________________\n",
      "dropout_4 (Dropout)          (None, 6400)              0         \n",
      "_________________________________________________________________\n",
      "dense_2 (Dense)              (None, 7)                 44807     \n",
      "=================================================================\n",
      "Total params: 63,623\n",
      "Trainable params: 63,623\n",
      "Non-trainable params: 0\n",
      "_________________________________________________________________\n"
     ]
    }
   ],
   "source": [
    "model=Sequential()\n",
    "model.add(Conv2D(32, (3,3), input_shape=(48,48,1),activation='relu'))\n",
    "model.add(MaxPooling2D(pool_size=(2,2)))\n",
    "model.add(Dropout(0.3)) # Dropout, one form of regularization\n",
    "model.add (Conv2D(64, kernel_size=(3, 3), activation=\"relu\"))\n",
    "model.add (MaxPooling2D(pool_size=(2, 2)))\n",
    "model.add(Flatten())\n",
    "model.add( Dropout(0.5))\n",
    "#model.add(Flatten())\n",
    "model.add(Dense(7, activation='softmax'))\n",
    "#model.compile(optimizer='adagrad', loss='categorical_crossentropy', metrics=['accuracy'])\n",
    "model.summary()"
   ]
  },
  {
   "cell_type": "code",
   "execution_count": 13,
   "metadata": {},
   "outputs": [],
   "source": [
    "batch_size = 128\n",
    "epochs = 20\n",
    "\n",
    "model.compile(loss=\"categorical_crossentropy\", optimizer=\"adam\", metrics=[\"accuracy\"])\n"
   ]
  },
  {
   "cell_type": "code",
   "execution_count": 14,
   "metadata": {},
   "outputs": [
    {
     "name": "stdout",
     "output_type": "stream",
     "text": [
      "WARNING:tensorflow:From C:\\Users\\mo\\AppData\\Roaming\\Python\\Python37\\site-packages\\tensorflow\\python\\ops\\math_ops.py:3066: to_int32 (from tensorflow.python.ops.math_ops) is deprecated and will be removed in a future version.\n",
      "Instructions for updating:\n",
      "Use tf.cast instead.\n",
      "Train on 20096 samples, validate on 8613 samples\n",
      "Epoch 1/20\n",
      "20096/20096 [==============================] - 117s 6ms/step - loss: 1.4137 - acc: 0.3782 - val_loss: 9.5559 - val_acc: 0.0206\n",
      "Epoch 2/20\n",
      "20096/20096 [==============================] - 100s 5ms/step - loss: 1.2962 - acc: 0.4570 - val_loss: 9.2669 - val_acc: 0.0325\n",
      "Epoch 3/20\n",
      "20096/20096 [==============================] - 100s 5ms/step - loss: 1.2199 - acc: 0.4992 - val_loss: 10.7325 - val_acc: 0.0346\n",
      "Epoch 4/20\n",
      "20096/20096 [==============================] - 99s 5ms/step - loss: 1.1636 - acc: 0.5275 - val_loss: 9.5431 - val_acc: 0.0381\n",
      "Epoch 5/20\n",
      "20096/20096 [==============================] - 100s 5ms/step - loss: 1.1207 - acc: 0.5455 - val_loss: 9.9241 - val_acc: 0.0353\n",
      "Epoch 6/20\n",
      "20096/20096 [==============================] - 100s 5ms/step - loss: 1.0969 - acc: 0.5563 - val_loss: 9.2375 - val_acc: 0.0313\n",
      "Epoch 7/20\n",
      "20096/20096 [==============================] - 99s 5ms/step - loss: 1.0679 - acc: 0.5710 - val_loss: 9.8498 - val_acc: 0.0382\n",
      "Epoch 8/20\n",
      "20096/20096 [==============================] - 99s 5ms/step - loss: 1.0521 - acc: 0.5755 - val_loss: 10.8013 - val_acc: 0.0398\n",
      "Epoch 9/20\n",
      "20096/20096 [==============================] - 99s 5ms/step - loss: 1.0333 - acc: 0.5867 - val_loss: 10.9771 - val_acc: 0.0428\n",
      "Epoch 10/20\n",
      "20096/20096 [==============================] - 99s 5ms/step - loss: 1.0156 - acc: 0.5947 - val_loss: 11.8092 - val_acc: 0.0397\n",
      "Epoch 11/20\n",
      "20096/20096 [==============================] - 99s 5ms/step - loss: 0.9962 - acc: 0.6005 - val_loss: 11.0502 - val_acc: 0.0367\n",
      "Epoch 12/20\n",
      "20096/20096 [==============================] - 99s 5ms/step - loss: 0.9876 - acc: 0.6041 - val_loss: 10.8570 - val_acc: 0.0425\n",
      "Epoch 13/20\n",
      "20096/20096 [==============================] - 100s 5ms/step - loss: 0.9780 - acc: 0.6105 - val_loss: 10.4878 - val_acc: 0.0369\n",
      "Epoch 14/20\n",
      "20096/20096 [==============================] - 99s 5ms/step - loss: 0.9595 - acc: 0.6199 - val_loss: 11.6721 - val_acc: 0.0413\n",
      "Epoch 15/20\n",
      "20096/20096 [==============================] - 99s 5ms/step - loss: 0.9551 - acc: 0.6202 - val_loss: 12.5305 - val_acc: 0.0362\n",
      "Epoch 16/20\n",
      "20096/20096 [==============================] - 98s 5ms/step - loss: 0.9477 - acc: 0.6246 - val_loss: 12.4307 - val_acc: 0.0431\n",
      "Epoch 17/20\n",
      "20096/20096 [==============================] - 99s 5ms/step - loss: 0.9299 - acc: 0.6284 - val_loss: 11.4870 - val_acc: 0.0334\n",
      "Epoch 18/20\n",
      "20096/20096 [==============================] - 98s 5ms/step - loss: 0.9304 - acc: 0.6332 - val_loss: 12.8162 - val_acc: 0.0370\n",
      "Epoch 19/20\n",
      "20096/20096 [==============================] - 99s 5ms/step - loss: 0.9200 - acc: 0.6338 - val_loss: 12.4600 - val_acc: 0.0399\n",
      "Epoch 20/20\n",
      "20096/20096 [==============================] - 99s 5ms/step - loss: 0.9106 - acc: 0.6386 - val_loss: 11.9943 - val_acc: 0.0417\n"
     ]
    },
    {
     "data": {
      "text/plain": [
       "<keras.callbacks.History at 0x1a90a06f668>"
      ]
     },
     "execution_count": 14,
     "metadata": {},
     "output_type": "execute_result"
    }
   ],
   "source": [
    "model.fit(x_train, y_train, batch_size=batch_size, epochs=epochs, validation_split=0.3,shuffle=True,verbose=1)"
   ]
  },
  {
   "cell_type": "code",
   "execution_count": 15,
   "metadata": {},
   "outputs": [],
   "source": [
    "from keras.models import model_from_json\n",
    "model_json = model.to_json()\n",
    "with open(\"model_final.json\", \"w\") as json_file:\n",
    "    json_file.write(model_json)\n",
    "# serialize weights to HDF5\n",
    "model.save_weights(\"model_final.h5\")"
   ]
  },
  {
   "cell_type": "markdown",
   "metadata": {},
   "source": [
    "## 4.Testing on image"
   ]
  },
  {
   "cell_type": "code",
   "execution_count": 56,
   "metadata": {},
   "outputs": [],
   "source": [
    "music=pd.read_csv('music.csv')"
   ]
  },
  {
   "cell_type": "code",
   "execution_count": 53,
   "metadata": {
    "scrolled": false
   },
   "outputs": [
    {
     "data": {
      "image/png": "[encoded data removed]",
      "text/plain": [
       "<Figure size 432x288 with 1 Axes>"
      ]
     },
     "metadata": {
      "needs_background": "light"
     },
     "output_type": "display_data"
    }
   ],
   "source": [
    "image = cv2.imread('test1.jpg',cv2.IMREAD_GRAYSCALE)\n",
    "\n",
    "plt.imshow(image,cmap='gray')\n",
    "plt.show()"
   ]
  },
  {
   "cell_type": "code",
   "execution_count": 54,
   "metadata": {},
   "outputs": [],
   "source": [
    "image = cv2.resize(image,(48,48))\n",
    "img=np.array(image)\n",
    "img=img.reshape(1,48,48,1)\n",
    "result=model.predict_classes(img)"
   ]
  },
  {
   "cell_type": "code",
   "execution_count": 55,
   "metadata": {},
   "outputs": [
    {
     "data": {
      "text/plain": [
       "2"
      ]
     },
     "execution_count": 55,
     "metadata": {},
     "output_type": "execute_result"
    }
   ],
   "source": [
    "result[0]"
   ]
  },
  {
   "cell_type": "code",
   "execution_count": 57,
   "metadata": {
    "scrolled": true
   },
   "outputs": [
    {
     "data": {
      "text/html": [
       "<div>\n",
       "<style scoped>\n",
       "    .dataframe tbody tr th:only-of-type {\n",
       "        vertical-align: middle;\n",
       "    }\n",
       "\n",
       "    .dataframe tbody tr th {\n",
       "        vertical-align: top;\n",
       "    }\n",
       "\n",
       "    .dataframe thead th {\n",
       "        text-align: right;\n",
       "    }\n",
       "</style>\n",
       "<table border=\"1\" class=\"dataframe\">\n",
       "  <thead>\n",
       "    <tr style=\"text-align: right;\">\n",
       "      <th></th>\n",
       "      <th>name</th>\n",
       "      <th>album</th>\n",
       "      <th>artist</th>\n",
       "      <th>mood</th>\n",
       "    </tr>\n",
       "  </thead>\n",
       "  <tbody>\n",
       "    <tr>\n",
       "      <th>0</th>\n",
       "      <td>1999</td>\n",
       "      <td>1999</td>\n",
       "      <td>Prince</td>\n",
       "      <td>Happy</td>\n",
       "    </tr>\n",
       "    <tr>\n",
       "      <th>1</th>\n",
       "      <td>23</td>\n",
       "      <td>23</td>\n",
       "      <td>Blonde Redhead</td>\n",
       "      <td>Sad</td>\n",
       "    </tr>\n",
       "    <tr>\n",
       "      <th>2</th>\n",
       "      <td>9 Crimes</td>\n",
       "      <td>9</td>\n",
       "      <td>Damien Rice</td>\n",
       "      <td>Sad</td>\n",
       "    </tr>\n",
       "    <tr>\n",
       "      <th>3</th>\n",
       "      <td>99 Luftballons</td>\n",
       "      <td>99 Luftballons</td>\n",
       "      <td>Nena</td>\n",
       "      <td>Happy</td>\n",
       "    </tr>\n",
       "    <tr>\n",
       "      <th>4</th>\n",
       "      <td>A Boy Brushed Red Living In Black And White</td>\n",
       "      <td>They're Only Chasing Safety</td>\n",
       "      <td>Underoath</td>\n",
       "      <td>Energetic</td>\n",
       "    </tr>\n",
       "  </tbody>\n",
       "</table>\n",
       "</div>"
      ],
      "text/plain": [
       "                                          name                        album  \\\n",
       "0                                         1999                         1999   \n",
       "1                                           23                           23   \n",
       "2                                     9 Crimes                            9   \n",
       "3                               99 Luftballons               99 Luftballons   \n",
       "4  A Boy Brushed Red Living In Black And White  They're Only Chasing Safety   \n",
       "\n",
       "           artist       mood  \n",
       "0          Prince      Happy  \n",
       "1  Blonde Redhead        Sad  \n",
       "2     Damien Rice        Sad  \n",
       "3            Nena      Happy  \n",
       "4       Underoath  Energetic  "
      ]
     },
     "execution_count": 57,
     "metadata": {},
     "output_type": "execute_result"
    }
   ],
   "source": [
    "music.head()"
   ]
  },
  {
   "cell_type": "code",
   "execution_count": null,
   "metadata": {},
   "outputs": [],
   "source": [
    "Sad          197\n",
    "Calm         195\n",
    "Energetic    154\n",
    "Happy        140\n",
    "df.drop(df.columns[[2304]],axis=1,inplace=True)"
   ]
  },
  {
   "cell_type": "code",
   "execution_count": 71,
   "metadata": {},
   "outputs": [
    {
     "data": {
      "text/html": [
       "<div>\n",
       "<style scoped>\n",
       "    .dataframe tbody tr th:only-of-type {\n",
       "        vertical-align: middle;\n",
       "    }\n",
       "\n",
       "    .dataframe tbody tr th {\n",
       "        vertical-align: top;\n",
       "    }\n",
       "\n",
       "    .dataframe thead th {\n",
       "        text-align: right;\n",
       "    }\n",
       "</style>\n",
       "<table border=\"1\" class=\"dataframe\">\n",
       "  <thead>\n",
       "    <tr style=\"text-align: right;\">\n",
       "      <th></th>\n",
       "      <th>name</th>\n",
       "      <th>album</th>\n",
       "      <th>artist</th>\n",
       "      <th>mood</th>\n",
       "    </tr>\n",
       "  </thead>\n",
       "  <tbody>\n",
       "    <tr>\n",
       "      <th>580</th>\n",
       "      <td>Tomorrow</td>\n",
       "      <td>Tomorrow</td>\n",
       "      <td>Annelie</td>\n",
       "      <td>Calm</td>\n",
       "    </tr>\n",
       "    <tr>\n",
       "      <th>287</th>\n",
       "      <td>Keep Going</td>\n",
       "      <td>Keep Going</td>\n",
       "      <td>Mark Milan</td>\n",
       "      <td>Calm</td>\n",
       "    </tr>\n",
       "    <tr>\n",
       "      <th>603</th>\n",
       "      <td>Vague</td>\n",
       "      <td>Envision</td>\n",
       "      <td>Amaranth Cove</td>\n",
       "      <td>Calm</td>\n",
       "    </tr>\n",
       "    <tr>\n",
       "      <th>460</th>\n",
       "      <td>Sadness</td>\n",
       "      <td>Red Moon</td>\n",
       "      <td>Marynka</td>\n",
       "      <td>Calm</td>\n",
       "    </tr>\n",
       "    <tr>\n",
       "      <th>263</th>\n",
       "      <td>Images</td>\n",
       "      <td>Images</td>\n",
       "      <td>DeLange</td>\n",
       "      <td>Calm</td>\n",
       "    </tr>\n",
       "  </tbody>\n",
       "</table>\n",
       "</div>"
      ],
      "text/plain": [
       "           name       album         artist  mood\n",
       "580    Tomorrow    Tomorrow        Annelie  Calm\n",
       "287  Keep Going  Keep Going     Mark Milan  Calm\n",
       "603       Vague    Envision  Amaranth Cove  Calm\n",
       "460     Sadness    Red Moon        Marynka  Calm\n",
       "263      Images      Images        DeLange  Calm"
      ]
     },
     "execution_count": 71,
     "metadata": {},
     "output_type": "execute_result"
    }
   ],
   "source": [
    "f2"
   ]
  },
  {
   "cell_type": "code",
   "execution_count": 80,
   "metadata": {},
   "outputs": [
    {
     "data": {
      "text/html": [
       "<div>\n",
       "<style scoped>\n",
       "    .dataframe tbody tr th:only-of-type {\n",
       "        vertical-align: middle;\n",
       "    }\n",
       "\n",
       "    .dataframe tbody tr th {\n",
       "        vertical-align: top;\n",
       "    }\n",
       "\n",
       "    .dataframe thead th {\n",
       "        text-align: right;\n",
       "    }\n",
       "</style>\n",
       "<table border=\"1\" class=\"dataframe\">\n",
       "  <thead>\n",
       "    <tr style=\"text-align: right;\">\n",
       "      <th></th>\n",
       "      <th>index</th>\n",
       "      <th>name</th>\n",
       "      <th>album</th>\n",
       "      <th>artist</th>\n",
       "      <th>mood</th>\n",
       "    </tr>\n",
       "  </thead>\n",
       "  <tbody>\n",
       "    <tr>\n",
       "      <th>0</th>\n",
       "      <td>660</td>\n",
       "      <td>You Are Safe With Me</td>\n",
       "      <td>delta/alpha</td>\n",
       "      <td>Jef Martens</td>\n",
       "      <td>Calm</td>\n",
       "    </tr>\n",
       "    <tr>\n",
       "      <th>1</th>\n",
       "      <td>345</td>\n",
       "      <td>Mind-wanders</td>\n",
       "      <td>Journey to the unknown</td>\n",
       "      <td>Patrick Hamilton</td>\n",
       "      <td>Calm</td>\n",
       "    </tr>\n",
       "    <tr>\n",
       "      <th>2</th>\n",
       "      <td>416</td>\n",
       "      <td>Petrichor</td>\n",
       "      <td>Petrichor</td>\n",
       "      <td>Cecelya</td>\n",
       "      <td>Calm</td>\n",
       "    </tr>\n",
       "    <tr>\n",
       "      <th>3</th>\n",
       "      <td>79</td>\n",
       "      <td>Breathe</td>\n",
       "      <td>Breathe</td>\n",
       "      <td>Hans Voller</td>\n",
       "      <td>Calm</td>\n",
       "    </tr>\n",
       "    <tr>\n",
       "      <th>4</th>\n",
       "      <td>326</td>\n",
       "      <td>Los Feliz</td>\n",
       "      <td>Los Feliz</td>\n",
       "      <td>Search For Atlantis</td>\n",
       "      <td>Calm</td>\n",
       "    </tr>\n",
       "  </tbody>\n",
       "</table>\n",
       "</div>"
      ],
      "text/plain": [
       "   index                  name                   album               artist  \\\n",
       "0    660  You Are Safe With Me             delta/alpha          Jef Martens   \n",
       "1    345          Mind-wanders  Journey to the unknown     Patrick Hamilton   \n",
       "2    416             Petrichor               Petrichor              Cecelya   \n",
       "3     79               Breathe                 Breathe          Hans Voller   \n",
       "4    326             Los Feliz               Los Feliz  Search For Atlantis   \n",
       "\n",
       "   mood  \n",
       "0  Calm  \n",
       "1  Calm  \n",
       "2  Calm  \n",
       "3  Calm  \n",
       "4  Calm  "
      ]
     },
     "metadata": {},
     "output_type": "display_data"
    }
   ],
   "source": [
    "if(result[0]==0 or result[0]==1 or result[0]==2 ):\n",
    "    #for angery,disgust,fear\n",
    "    filter1=music['mood']=='Calm'\n",
    "    f1=music.where(filter1)\n",
    "    f1=f1.dropna()\n",
    "    f2 =f1.sample(n=5)\n",
    "    f2.reset_index(inplace=True)\n",
    "    display(f2)\n",
    "if(result[0]==3 or result[0]==4):\n",
    "    #for happy, neutral\n",
    "    filter1=music['mood']=='Happy'\n",
    "    f1=music.where(filter1)\n",
    "    f1=f1.dropna()\n",
    "    f2 =f1.sample(n=5)\n",
    "    f2.reset_index(inplace=True)\n",
    "    display(f2)\n",
    "if(result[0]==5):\n",
    "       #for Sad\n",
    "    filter1=music['mood']=='Sad'\n",
    "    f1=music.where(filter1)\n",
    "    f1=f1.dropna()\n",
    "    f2 =f1.sample(n=5)\n",
    "    f2.reset_index(inplace=True)\n",
    "    display(f2)\n",
    "if(result[0]==6):\n",
    "     #for surprise\n",
    "    filter1=music['mood']=='Energetic'\n",
    "    f1=music.where(filter1)\n",
    "    f1=f1.dropna()\n",
    "    f2 =f1.sample(n=5)\n",
    "    f2.reset_index(inplace=True)\n",
    "    display(f2)\n"
   ]
  },
  {
   "cell_type": "code",
   "execution_count": null,
   "metadata": {},
   "outputs": [],
   "source": []
  }
 ],
 "metadata": {
  "kernelspec": {
   "display_name": "Python 3 (ipykernel)",
   "language": "python",
   "name": "python3"
  },
  "language_info": {
   "codemirror_mode": {
    "name": "ipython",
    "version": 3
   },
   "file_extension": ".py",
   "mimetype": "text/x-python",
   "name": "python",
   "nbconvert_exporter": "python",
   "pygments_lexer": "ipython3",
   "version": "3.8.11"
  }
 },
 "nbformat": 4,
 "nbformat_minor": 2
}
